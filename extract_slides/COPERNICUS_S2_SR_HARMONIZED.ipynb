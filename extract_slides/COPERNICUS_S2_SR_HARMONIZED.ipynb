{
 "cells": [
  {
   "cell_type": "code",
   "execution_count": 13,
   "id": "0fbb1482-be59-4f23-8629-2697f3ed50ac",
   "metadata": {},
   "outputs": [
    {
     "name": "stdout",
     "output_type": "stream",
     "text": [
      "Export tasks have been started.\n"
     ]
    }
   ],
   "source": [
    "import ee\n",
    "import pandas as pd\n",
    "import requests\n",
    "from io import StringIO\n",
    "\n",
    "# Initialize the Earth Engine module.\n",
    "# ee.Authenticate()\n",
    "ee.Initialize()\n",
    "\n",
    "# URL of the CSV file\n",
    "url = 'https://raw.githubusercontent.com/orwell2024/uscrnlib/main/extract_slides/2024stations_days.csv'\n",
    "\n",
    "# Read the CSV file from the URL\n",
    "response = requests.get(url)\n",
    "data = pd.read_csv(StringIO(response.text))\n",
    "\n",
    "# Limiting to first 10 locations for testing purposes\n",
    "data = data.head(4)\n",
    "\n",
    "# Function to create and export image for a given location\n",
    "def create_and_export_image(row):\n",
    "    station_name = row['Station']\n",
    "    latitude = row['LATITUDE']\n",
    "    longitude = row['LONGITUDE']\n",
    "    \n",
    "    point = ee.Geometry.Point([longitude, latitude])\n",
    "    buffer = point.buffer(10000).bounds()  # 5000 meters buffer for 10 km x 10 km region\n",
    "    \n",
    "    collection = ee.ImageCollection('COPERNICUS/S2_SR_HARMONIZED') \\\n",
    "                    .filterBounds(buffer) \\\n",
    "                    .filterDate('2023-05-01', '2023-6-01') \\\n",
    "                    .sort('CLOUDY_PIXEL_PERCENTAGE') \\\n",
    "                    .first()\n",
    "    \n",
    "    # Get the date of the image\n",
    "    date = ee.Date(collection.get('system:time_start')).format('YYYY-MM-dd').getInfo()\n",
    "    \n",
    "    # Select the relevant bands\n",
    "    image = collection.select(['B4', 'B3', 'B2']).clip(buffer)\n",
    "    \n",
    "    # Export the image with smaller dimensions\n",
    "    export_task = ee.batch.Export.image.toDrive(\n",
    "        image=image,\n",
    "        description=f\"{station_name}_{date}\",\n",
    "        folder='GEE_Images',\n",
    "        scale=10,\n",
    "        region=buffer.getInfo()['coordinates'],\n",
    "        fileFormat='GeoTIFF',  # Export as GeoTIFF\n",
    "        maxPixels=1e8\n",
    "    )\n",
    "    \n",
    "    export_task.start()\n",
    "\n",
    "# Apply the function to each row in the dataframe\n",
    "data.apply(create_and_export_image, axis=1)\n",
    "\n",
    "print(\"Export tasks have been started.\")\n"
   ]
  },
  {
   "cell_type": "code",
   "execution_count": null,
   "id": "2cec0d18-c0cc-4a30-8290-7dddfab72a45",
   "metadata": {},
   "outputs": [],
   "source": []
  }
 ],
 "metadata": {
  "kernelspec": {
   "display_name": "Python 3 (ipykernel)",
   "language": "python",
   "name": "python3"
  },
  "language_info": {
   "codemirror_mode": {
    "name": "ipython",
    "version": 3
   },
   "file_extension": ".py",
   "mimetype": "text/x-python",
   "name": "python",
   "nbconvert_exporter": "python",
   "pygments_lexer": "ipython3",
   "version": "3.11.5"
  }
 },
 "nbformat": 4,
 "nbformat_minor": 5
}
